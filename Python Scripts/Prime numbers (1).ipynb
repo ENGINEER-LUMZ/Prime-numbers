{
 "cells": [
  {
   "cell_type": "code",
   "execution_count": 4,
   "id": "0ae2a852-248d-4311-ad9f-829c6f6d7016",
   "metadata": {},
   "outputs": [],
   "source": [
    "# Import this library so we can calculate square roots\n",
    "import math\n",
    "\n",
    "def is_prime(n):\n",
    "    # Deal with special cases (0 & 1)\n",
    "    if n <= 1:\n",
    "        return False\n",
    "        \n",
    "    # Loop through all numbers between 2 and the square root of n, and check if n is NOT prime\n",
    "    # If n is divisible by any number greater than sqrt(n), \n",
    "    # its counterpart in the product would be a number smaller than sqrt(n),\n",
    "    # thus, we would have already checked it\n",
    "    i = 2\n",
    "    while i <= math.sqrt(n):\n",
    "        if n % i ==0:\n",
    "            return False\n",
    "        i += 1\n",
    "        \n",
    "    # If the program reached this point, that means the number is prime\n",
    "    return True"
   ]
  },
  {
   "cell_type": "code",
   "execution_count": 12,
   "id": "a00878b0-1f81-4ef0-9427-a7fe2953a1b4",
   "metadata": {},
   "outputs": [
    {
     "data": {
      "text/plain": [
       "True"
      ]
     },
     "execution_count": 12,
     "metadata": {},
     "output_type": "execute_result"
    }
   ],
   "source": [
    "# Function test\n",
    "is_prime(313)"
   ]
  },
  {
   "cell_type": "code",
   "execution_count": 40,
   "id": "a2fdc553-5541-4432-9334-5dbdeafa7d33",
   "metadata": {},
   "outputs": [],
   "source": [
    "# This function counts the number of prime numbers in a specified range\n",
    "def count_primes (start, end):\n",
    "    count = 0\n",
    "    # It iterates through each number in the range using 'is_prime' to check for prime numbers\n",
    "    for num in range(start, end + 1):\n",
    "        if is_prime(num) is True:\n",
    "            # When a prime number has been found it increases the value of 'count' by 1  \n",
    "            count += 1\n",
    "    print(f'There are {count} prime numbers in this range')"
   ]
  },
  {
   "cell_type": "code",
   "execution_count": 44,
   "id": "66da5a31-090a-455a-ae95-527af5fd1402",
   "metadata": {},
   "outputs": [
    {
     "name": "stdout",
     "output_type": "stream",
     "text": [
      "There are 8 prime numbers in this range\n"
     ]
    }
   ],
   "source": [
    "# function test\n",
    "count_primes(0, 20)"
   ]
  },
  {
   "cell_type": "code",
   "execution_count": null,
   "id": "760f8738-938f-4586-9fbd-36fef978ba0d",
   "metadata": {},
   "outputs": [],
   "source": []
  }
 ],
 "metadata": {
  "kernelspec": {
   "display_name": "Python 3 (ipykernel)",
   "language": "python",
   "name": "python3"
  },
  "language_info": {
   "codemirror_mode": {
    "name": "ipython",
    "version": 3
   },
   "file_extension": ".py",
   "mimetype": "text/x-python",
   "name": "python",
   "nbconvert_exporter": "python",
   "pygments_lexer": "ipython3",
   "version": "3.12.4"
  }
 },
 "nbformat": 4,
 "nbformat_minor": 5
}
